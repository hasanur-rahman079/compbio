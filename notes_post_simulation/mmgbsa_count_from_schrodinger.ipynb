{
 "cells": [
  {
   "cell_type": "markdown",
   "id": "2de3592c",
   "metadata": {},
   "source": [
    "# MMGBSA Calculation from Schrodinger thermal_mmgbsa.py"
   ]
  },
  {
   "cell_type": "markdown",
   "id": "e2c7b0d6",
   "metadata": {},
   "source": [
    "## Run the script\n",
    "\n",
    "Go to the folder that have the out.cms trajectory file. You can check the existing files by `ls`"
   ]
  },
  {
   "cell_type": "markdown",
   "id": "60d9d4f2",
   "metadata": {},
   "source": [
    "Then run the script-\n",
    "\n",
    "where:- <br/>\n",
    "xx-out.cms=simulaiton out file <br/>\n",
    "Y=GPU <br/>\n",
    "YY=The simulation frames gap <br/>\n",
    "Z=Number of prime subjobs to create (Make sure Z>Y, or Z=Y)"
   ]
  },
  {
   "cell_type": "markdown",
   "id": "fcc500ed",
   "metadata": {},
   "source": [
    "```bash\n",
    "$SCHRODINGER/run thermal_mmgbsa.py xx-out.cms -HOST 'localhost:Y' -step_size YY -NJOBS Z\n",
    "```"
   ]
  },
  {
   "cell_type": "markdown",
   "id": "265c22e3",
   "metadata": {},
   "source": [
    "## Set Schrodinger Environment variable path"
   ]
  },
  {
   "cell_type": "markdown",
   "id": "6358b0ca",
   "metadata": {},
   "source": [
    "If the command $SCHRODINGER/run shows that the `/run is a directory` it means that the the SCHRODINGER environment variable path is not set. To set the environment variable path follow the below code"
   ]
  },
  {
   "cell_type": "markdown",
   "id": "8a8dad6c",
   "metadata": {},
   "source": [
    "```bash\n",
    "export SCHRODINGER=installdir\n",
    "```\n",
    "\n",
    "The `installdir` is where the schrodinger is installed, mostly in `/opt/schrodinger-version`"
   ]
  }
 ],
 "metadata": {
  "kernelspec": {
   "display_name": "Python 3 (ipykernel)",
   "language": "python",
   "name": "python3"
  },
  "language_info": {
   "codemirror_mode": {
    "name": "ipython",
    "version": 3
   },
   "file_extension": ".py",
   "mimetype": "text/x-python",
   "name": "python",
   "nbconvert_exporter": "python",
   "pygments_lexer": "ipython3",
   "version": "3.11.2"
  }
 },
 "nbformat": 4,
 "nbformat_minor": 5
}
