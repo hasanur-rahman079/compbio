{
 "cells": [
  {
   "cell_type": "markdown",
   "id": "60d9d4f2",
   "metadata": {},
   "source": [
    "To calculate mmgbsa from schrodinger, run this script"
   ]
  },
  {
   "cell_type": "code",
   "execution_count": 1,
   "id": "71d01895",
   "metadata": {},
   "outputs": [
    {
     "ename": "SyntaxError",
     "evalue": "invalid syntax (18358957.py, line 1)",
     "output_type": "error",
     "traceback": [
      "\u001b[0;36m  Cell \u001b[0;32mIn [1], line 1\u001b[0;36m\u001b[0m\n\u001b[0;31m    $SCHRODINGER/run thermal_mmgbsa.py xx-out.cms -HOST 'localhost:Y' -step_size YY -NJOBS Z\u001b[0m\n\u001b[0m    ^\u001b[0m\n\u001b[0;31mSyntaxError\u001b[0m\u001b[0;31m:\u001b[0m invalid syntax\n"
     ]
    }
   ],
   "source": [
    "$SCHRODINGER/run thermal_mmgbsa.py xx-out.cms -HOST 'localhost:Y' -step_size YY -NJOBS Z"
   ]
  },
  {
   "cell_type": "code",
   "execution_count": null,
   "id": "bd23135f",
   "metadata": {},
   "outputs": [],
   "source": [
    "xx-out.cms=simulaiton out file\n",
    "Y=GPU\n",
    "YY=The simulation frames gap\n",
    "Z=Number of prime subjobs to create (Make sure Z>Y, or Z=Y)"
   ]
  },
  {
   "cell_type": "code",
   "execution_count": null,
   "id": "7ceba251",
   "metadata": {},
   "outputs": [],
   "source": []
  }
 ],
 "metadata": {
  "kernelspec": {
   "display_name": "Python 3 (ipykernel)",
   "language": "python",
   "name": "python3"
  },
  "language_info": {
   "codemirror_mode": {
    "name": "ipython",
    "version": 3
   },
   "file_extension": ".py",
   "mimetype": "text/x-python",
   "name": "python",
   "nbconvert_exporter": "python",
   "pygments_lexer": "ipython3",
   "version": "3.11.2"
  }
 },
 "nbformat": 4,
 "nbformat_minor": 5
}
